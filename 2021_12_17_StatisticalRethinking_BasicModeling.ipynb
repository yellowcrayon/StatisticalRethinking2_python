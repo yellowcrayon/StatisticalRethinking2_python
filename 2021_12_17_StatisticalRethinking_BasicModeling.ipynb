{
 "cells": [
  {
   "cell_type": "markdown",
   "metadata": {},
   "source": [
    "# Statistical Rethinking, Section 4.3\n",
    "* NOTE: My code does the same computations as the Statistical Rethinking python resource\\*, but I have changed some of the variable names and syntax to make the code more understandable to me.\n",
    "\n",
    "\\* https://github.com/pymc-devs/resources/blob/master/Rethinking_2/Chp_04.ipynb"
   ]
  },
  {
   "cell_type": "code",
   "execution_count": 1,
   "metadata": {},
   "outputs": [],
   "source": [
    "import pandas as pd\n",
    "import numpy as np\n",
    "import scipy.stats as stats\n",
    "import matplotlib.pyplot as plt\n",
    "import seaborn as sns\n",
    "\n",
    "from scipy.interpolate import griddata"
   ]
  },
  {
   "cell_type": "code",
   "execution_count": 2,
   "metadata": {},
   "outputs": [],
   "source": [
    "pd.set_option('display.max_columns', None)\n",
    "plt.rcParams['figure.figsize'] = [8, 5]\n",
    "plt.rcParams['font.size'] = 18\n",
    "\n",
    "# Display all outputs, not just the last line:\n",
    "from IPython.core.interactiveshell import InteractiveShell\n",
    "InteractiveShell.ast_node_interactivity = \"all\""
   ]
  },
  {
   "cell_type": "markdown",
   "metadata": {},
   "source": [
    "# Model height using a Gaussian distribution"
   ]
  },
  {
   "cell_type": "markdown",
   "metadata": {},
   "source": [
    "## Get data"
   ]
  },
  {
   "cell_type": "code",
   "execution_count": 3,
   "metadata": {},
   "outputs": [
    {
     "data": {
      "text/html": [
       "<div>\n",
       "<style scoped>\n",
       "    .dataframe tbody tr th:only-of-type {\n",
       "        vertical-align: middle;\n",
       "    }\n",
       "\n",
       "    .dataframe tbody tr th {\n",
       "        vertical-align: top;\n",
       "    }\n",
       "\n",
       "    .dataframe thead th {\n",
       "        text-align: right;\n",
       "    }\n",
       "</style>\n",
       "<table border=\"1\" class=\"dataframe\">\n",
       "  <thead>\n",
       "    <tr style=\"text-align: right;\">\n",
       "      <th></th>\n",
       "      <th>height</th>\n",
       "      <th>weight</th>\n",
       "      <th>age</th>\n",
       "      <th>male</th>\n",
       "    </tr>\n",
       "  </thead>\n",
       "  <tbody>\n",
       "    <tr>\n",
       "      <th>0</th>\n",
       "      <td>151.765</td>\n",
       "      <td>47.825606</td>\n",
       "      <td>63.0</td>\n",
       "      <td>1</td>\n",
       "    </tr>\n",
       "    <tr>\n",
       "      <th>1</th>\n",
       "      <td>139.700</td>\n",
       "      <td>36.485807</td>\n",
       "      <td>63.0</td>\n",
       "      <td>0</td>\n",
       "    </tr>\n",
       "    <tr>\n",
       "      <th>2</th>\n",
       "      <td>136.525</td>\n",
       "      <td>31.864838</td>\n",
       "      <td>65.0</td>\n",
       "      <td>0</td>\n",
       "    </tr>\n",
       "    <tr>\n",
       "      <th>3</th>\n",
       "      <td>156.845</td>\n",
       "      <td>53.041915</td>\n",
       "      <td>41.0</td>\n",
       "      <td>1</td>\n",
       "    </tr>\n",
       "    <tr>\n",
       "      <th>4</th>\n",
       "      <td>145.415</td>\n",
       "      <td>41.276872</td>\n",
       "      <td>51.0</td>\n",
       "      <td>0</td>\n",
       "    </tr>\n",
       "  </tbody>\n",
       "</table>\n",
       "</div>"
      ],
      "text/plain": [
       "    height     weight   age  male\n",
       "0  151.765  47.825606  63.0     1\n",
       "1  139.700  36.485807  63.0     0\n",
       "2  136.525  31.864838  65.0     0\n",
       "3  156.845  53.041915  41.0     1\n",
       "4  145.415  41.276872  51.0     0"
      ]
     },
     "execution_count": 3,
     "metadata": {},
     "output_type": "execute_result"
    },
    {
     "name": "stdout",
     "output_type": "stream",
     "text": [
      "<class 'pandas.core.frame.DataFrame'>\n",
      "RangeIndex: 544 entries, 0 to 543\n",
      "Data columns (total 4 columns):\n",
      " #   Column  Non-Null Count  Dtype  \n",
      "---  ------  --------------  -----  \n",
      " 0   height  544 non-null    float64\n",
      " 1   weight  544 non-null    float64\n",
      " 2   age     544 non-null    float64\n",
      " 3   male    544 non-null    int64  \n",
      "dtypes: float64(3), int64(1)\n",
      "memory usage: 17.1 KB\n"
     ]
    }
   ],
   "source": [
    "url = \\\n",
    "'https://raw.githubusercontent.com/pymc-devs/resources/master/Rethinking_2/Data/Howell1.csv'\n",
    "\n",
    "df = pd.read_csv(url, delimiter=';')\n",
    "df.head()\n",
    "df.info()"
   ]
  },
  {
   "cell_type": "code",
   "execution_count": 4,
   "metadata": {},
   "outputs": [
    {
     "name": "stdout",
     "output_type": "stream",
     "text": [
      "<class 'pandas.core.frame.DataFrame'>\n",
      "Int64Index: 352 entries, 0 to 543\n",
      "Data columns (total 4 columns):\n",
      " #   Column  Non-Null Count  Dtype  \n",
      "---  ------  --------------  -----  \n",
      " 0   height  352 non-null    float64\n",
      " 1   weight  352 non-null    float64\n",
      " 2   age     352 non-null    float64\n",
      " 3   male    352 non-null    int64  \n",
      "dtypes: float64(3), int64(1)\n",
      "memory usage: 13.8 KB\n"
     ]
    }
   ],
   "source": [
    "df2 = df[df.age >= 18]\n",
    "df2.info()"
   ]
  },
  {
   "cell_type": "markdown",
   "metadata": {},
   "source": [
    "## Choose a model"
   ]
  },
  {
   "cell_type": "markdown",
   "metadata": {},
   "source": [
    "### Since \"height is a sum of many small growth factors\"\\*, we choose to model height with a Gaussian distribution.\n",
    "\n",
    "### Formally, \n",
    "$h_i \\thicksim$ Normal$(\\mu, \\sigma)$\n",
    "\n",
    "\\*Statistical Rethinking 4.3.2"
   ]
  },
  {
   "cell_type": "code",
   "execution_count": 5,
   "metadata": {},
   "outputs": [
    {
     "data": {
      "text/plain": [
       "<matplotlib.axes._subplots.AxesSubplot at 0x120f51fd0>"
      ]
     },
     "execution_count": 5,
     "metadata": {},
     "output_type": "execute_result"
    },
    {
     "data": {
      "image/png": "[encoded data removed]",
      "text/plain": [
       "<Figure size 576x360 with 1 Axes>"
      ]
     },
     "metadata": {
      "needs_background": "light"
     },
     "output_type": "display_data"
    }
   ],
   "source": [
    "df2.height.hist()"
   ]
  },
  {
   "cell_type": "markdown",
   "metadata": {},
   "source": [
    "## Choose priors"
   ]
  },
  {
   "cell_type": "markdown",
   "metadata": {},
   "source": [
    "### Prior for the distribution of the mean of the heights\n",
    "\n",
    "#### We expect the mean of the heights to also be normally distributed.\n",
    "\n",
    "#### Our prior guess for the mean of the *distribution of the mean of the heights* is 158 cm--I picked this prior because I am 5'2\", or about 158 cm tall. \n",
    "\n",
    "#### Our guess for the standard deviation of the mean is 20 cm--if we expect one standard deviation to be 20 cm, then that also means we expect 95% of heights to fall in the range 158 cm $\\pm$ 40cm, or 118 cm to 198 cm (3'10\" to 6'6\"), which we know from experience is a fairly encompassing range for human heights, and a very wide range for the mean of the heights.\n",
    "\n",
    "$\\mu \\thicksim$ Normal$(158, 20)$"
   ]
  },
  {
   "cell_type": "code",
   "execution_count": 6,
   "metadata": {},
   "outputs": [
    {
     "data": {
      "image/png": "[encoded data removed]",
      "text/plain": [
       "<Figure size 576x360 with 1 Axes>"
      ]
     },
     "metadata": {
      "needs_background": "light"
     },
     "output_type": "display_data"
    }
   ],
   "source": [
    "x = np.linspace(100, 250, 100)\n",
    "y = stats.norm.pdf(x, 158, 20)\n",
    "plt.scatter(x, y)\n",
    "plt.xlabel('mean height');\n",
    "plt.ylabel('generated prior pdf');"
   ]
  },
  {
   "cell_type": "markdown",
   "metadata": {},
   "source": [
    "### Prior for the distribution of the standard deviation of the heights\n",
    "\n",
    "\"A standard deviation like σ must be positive, so bounding it at zero makes sense. How should we pick the upper bound? In this case, a standard deviation of 50cm would imply that 95% of individual heights lie within 100cm of the average height. That’s a very large range.\"\\*\n",
    "\n",
    "$\\sigma \\thicksim$ Uniform$(0, 50)$\n",
    "\n",
    "\\*Statistical Rethinking 4.3.2"
   ]
  },
  {
   "cell_type": "code",
   "execution_count": 7,
   "metadata": {},
   "outputs": [
    {
     "data": {
      "image/png": "[encoded data removed]",
      "text/plain": [
       "<Figure size 576x360 with 1 Axes>"
      ]
     },
     "metadata": {
      "needs_background": "light"
     },
     "output_type": "display_data"
    }
   ],
   "source": [
    "x = np.linspace(-10, 60, 100)\n",
    "y = stats.uniform.pdf(x, 0, 50)\n",
    "plt.scatter(x, y)\n",
    "plt.xlabel('standard deviation of height');\n",
    "plt.ylabel('generated prior pdf');"
   ]
  },
  {
   "cell_type": "markdown",
   "metadata": {},
   "source": [
    "### Putting things together--Generate a prior height distribution using assumptions about the distributions of the parameters (mean and std) of the prior height distribution.\n",
    "* Bayesian models involve layers of distributions, which can quickly get confusing. We have to keep track of many layers, and sample from those layers to make the next layer.\n",
    "* Commonly, the output of a Bayesian model is a list of samples--these output samples represent a distribution. We could alternately use analytical equations to represent distributions, but these can be difficult or impossible to compute. Instead, we can use a list of samples to represent any arbitrary distribution, regardless of how analytically complex it may be.\n",
    "* In this section, we generate a list of samples that represent a prior distribution.\n",
    "    * Above, we decided to model height using a normal distribution.\n",
    "        * The normal distribution has two parameters that also need to be modeled--mean and standard deviation.\n",
    "    * Next, we made some assumptions about the mean and std:\n",
    "        * We think the mean of height comes from a normal distribution with mean 158cm and std 20cm.\n",
    "        * We think the std of height comes from a uniform distribution between 0 and 50 cm.\n",
    "    * Generate samples\n",
    "        * First, generate samples for the parameter distributions (mean of height and standard deviation of height).\n",
    "        * Then, use those parameter samples to generate samples of the prior height distribution."
   ]
  },
  {
   "cell_type": "markdown",
   "metadata": {},
   "source": [
    "### Generate lists of values representing samples of the mean and standard deviation"
   ]
  },
  {
   "cell_type": "code",
   "execution_count": 10,
   "metadata": {},
   "outputs": [
    {
     "data": {
      "image/png": "[encoded data removed]",
      "text/plain": [
       "<Figure size 576x360 with 2 Axes>"
      ]
     },
     "metadata": {
      "needs_background": "light"
     },
     "output_type": "display_data"
    }
   ],
   "source": [
    "n_samples = 1000\n",
    "\n",
    "# rvs generates a random sample from the specified distribution.\n",
    "sample_mu = stats.norm.rvs(loc=158, scale=20, size=n_samples)\n",
    "sample_sigma = stats.uniform.rvs(loc=0, scale=50, size=n_samples)\n",
    "\n",
    "fig, (ax1, ax2) = plt.subplots(1, 2, sharey=True)\n",
    "\n",
    "ax1.hist(sample_mu, density=True);\n",
    "ax2.hist(sample_sigma, density=True, color='orange');\n",
    "ax1.set_xlabel('mean height (cm)');\n",
    "ax2.set_xlabel('standard deviation of height (cm)');\n",
    "ax1.set_ylabel('sampled parameters of the prior, pdf');"
   ]
  },
  {
   "cell_type": "markdown",
   "metadata": {},
   "source": [
    "### Use the samples of mean and standard deviation to compute samples of the prior distribution for height.\n",
    "* prior_h is a list of samples.\n",
    "* prior_h is sampled from a normal distribution.\n",
    "* Each individual sample in prior_h is sampled using one of the sample_mu, sample_sigma pairs as the mean and std of the normal distribution.\n",
    "* For example, the first value in the list prior_h was calculated by taking the first sample in the list sample_mu, and the first value in the list sample_sigma, and using those two  values to define the mean and std of a normal distribution, and then sampling one value from that normal distribution."
   ]
  },
  {
   "cell_type": "code",
   "execution_count": 9,
   "metadata": {},
   "outputs": [
    {
     "data": {
      "image/png": "[encoded data removed]",
      "text/plain": [
       "<Figure size 576x360 with 2 Axes>"
      ]
     },
     "metadata": {
      "needs_background": "light"
     },
     "output_type": "display_data"
    }
   ],
   "source": [
    "prior_h = stats.norm.rvs(loc=sample_mu, scale=sample_sigma)\n",
    "\n",
    "fig, (ax1, ax2) = plt.subplots(1, 2, sharey=True)\n",
    "ax1.hist(prior_h, density=True);\n",
    "# az.plot_kde(prior_h)\n",
    "sns.kdeplot(prior_h, ax=ax2);\n",
    "ax1.set_xlabel('height');\n",
    "ax2.set_xlabel('height');\n",
    "ax1.set_ylabel('sampled prior pdf');"
   ]
  },
  {
   "cell_type": "code",
   "execution_count": 24,
   "metadata": {},
   "outputs": [
    {
     "data": {
      "text/plain": [
       "(1000,)"
      ]
     },
     "execution_count": 24,
     "metadata": {},
     "output_type": "execute_result"
    },
    {
     "data": {
      "text/plain": [
       "array([163.72870701, 146.46644297, 124.08516479, 145.90799998,\n",
       "       171.97730582, 173.13072008, 129.80397697, 111.54217196,\n",
       "       189.32507934, 157.82455477, 153.53823287, 147.77348761,\n",
       "       124.7193671 , 155.79683071, 201.34317012, 161.12877782,\n",
       "       180.48709636, 165.69157201, 165.27240076, 153.92247161,\n",
       "       166.37536673, 189.63799977, 139.72645237, 119.70925986,\n",
       "       129.93401772, 166.47256395, 151.66268194, 170.30949086,\n",
       "       110.03751417, 157.51354874, 172.10016215, 158.83921021,\n",
       "       166.00125962, 197.72866345, 164.20450281, 222.54469362,\n",
       "       140.86277387, 197.18164001, 117.07387709, 102.97941444,\n",
       "       131.01259952, 164.24931774, 225.63219842, 217.93531729,\n",
       "        83.29066828, 187.85854191, 203.19048713, 134.04040934,\n",
       "       195.11010583, 158.83105674, 151.0329532 , 165.06010383,\n",
       "       148.90592173, 136.45976864, 169.77304567, 117.43441238,\n",
       "       170.87114774, 188.89105705, 163.27591283, 193.16737117,\n",
       "       131.77626561, 160.87293964, 170.36318559, 183.42681927,\n",
       "       139.80735847, 102.63662748, 159.82611489, 185.50692819,\n",
       "       172.05290088, 184.61653518, 177.80899305, 285.98604346,\n",
       "       133.83194747, 139.37166092, 191.23390583, 146.83401345,\n",
       "       188.82670329, 155.9034263 , 120.55976234, 155.91247342,\n",
       "       182.20508489, 129.73276709, 168.26586439, 174.46404102,\n",
       "        80.28255983, 182.51369539, 208.41281024, 172.01596529,\n",
       "       263.31273247, 121.13252704, 170.83361285, 163.8293957 ,\n",
       "       174.35662096, 123.68973579, 146.23950873, 186.54323935,\n",
       "       218.9562275 , 152.17401571, 189.36067369, 189.45653478,\n",
       "       155.22148095, 185.03053273, 117.70416912,  71.46025682,\n",
       "       155.8500217 , 116.17990953, 203.416561  , 172.12031004,\n",
       "       195.85259949, 176.64955363, 150.79030914,  48.8469381 ,\n",
       "       184.93803583, 263.24662297, 168.13668014, 150.88472889,\n",
       "       115.938753  , 159.61917644, 118.48120187, 149.24050974,\n",
       "       190.30162391, 138.92427506, 153.67781349, 210.32556948,\n",
       "       174.30056195, 164.21569205, 151.55461353, 151.93931116,\n",
       "       154.474867  , 236.41154044,  83.21511727,  84.43081511,\n",
       "       161.64908784, 127.57516073, 105.02591955, 213.72982372,\n",
       "       149.10147515, 197.19765203, 106.82379841, 148.25253621,\n",
       "       170.92039503, 163.00534665, 113.49177077, 183.10442073,\n",
       "       190.26772845, 150.26494353, 184.73522396, 172.4455948 ,\n",
       "       227.32116154, 178.12099272, 143.60863101, 131.11387904,\n",
       "       138.56084692, 140.1753973 , 135.13643864, 159.6800949 ,\n",
       "       164.36752491, 160.34564208, 156.62252984, 146.10621203,\n",
       "       125.78225009, 186.69505936, 165.88464006, 211.01312233,\n",
       "       175.57818225, 213.46063855, 165.25556625, 157.48414723,\n",
       "       140.42336311, 148.77223734, 157.18373401, 167.69422432,\n",
       "       210.11037322, 154.3886424 , 282.13248803,  96.25306707,\n",
       "       162.02617774, 164.31369405, 176.14116648, 139.65428479,\n",
       "       162.52352097, 130.79193639, 168.33412741, 153.60683901,\n",
       "       132.02665299, 168.37116766, 147.32628448, 140.24448645,\n",
       "       151.67582677, 112.73105584, 164.64653416, 136.02548123,\n",
       "       215.77251661, 140.68757295, 125.30047319, 165.69886779,\n",
       "       127.62914612, 147.0883948 , 172.65578229, 149.37222565,\n",
       "       129.33713391, 188.94505888, 171.74619318, 162.37292966,\n",
       "       141.03164987, 155.51912188, 152.95003403, 168.49289494,\n",
       "        43.65917033, 173.40168667, 119.44427223, 180.21695735,\n",
       "       178.74074833, 221.36168142, 166.86793265, 143.57554368,\n",
       "       137.18210543, 154.04881829, 137.67230117, 148.92770388,\n",
       "       138.58291074, 250.20626886, 157.90193821, 157.29689858,\n",
       "       184.68272416, 165.77289666, 163.96328871, 136.5309664 ,\n",
       "       131.22499432, 110.99200971, 158.68033875, 271.85551349,\n",
       "       167.97077526, 188.78391372, 149.24550967, 134.07246467,\n",
       "       164.9461199 , 198.61182759, 184.53502451, 111.49301826,\n",
       "       158.95268758, 150.57918877, 164.63144883, 141.70936104,\n",
       "       212.7462842 , 175.85642795, 153.55747487, 148.77461373,\n",
       "       169.43057119, 160.49555348, 159.76948489, 113.72773552,\n",
       "       188.33830793, 198.58591142, 180.4269764 , 178.07381421,\n",
       "       214.74597663, 128.53370271, 138.0416215 , 160.94682174,\n",
       "       162.97621927,  69.30065547, 264.16498516, 160.63740777,\n",
       "       228.91395261, 167.18188682, 174.5722009 , 170.13641799,\n",
       "       191.24574078, 172.40711052, 160.62207845,  -1.3563038 ,\n",
       "       112.51035009, 136.44205887, 169.6302135 , 167.89182618,\n",
       "       172.33569033, 145.45510903, 185.81400029, 164.63045625,\n",
       "       154.08440873, 171.36648991, 161.98353939, 111.61351233,\n",
       "       168.51164759, 167.70296066, 142.93356922, 148.08430659,\n",
       "       109.00110276, 164.76750456, 151.50928666, 222.00305476,\n",
       "       136.40777505, 147.12167173, 182.35676359, 160.60316235,\n",
       "        91.66668405, 141.35565548, 204.53712733, 143.54936093,\n",
       "       142.50854549, 144.16254124, 267.13405779, 135.91622026,\n",
       "        88.10686142, 119.01565625, 122.23813261, 172.6421847 ,\n",
       "       146.46526653, 239.21785296, 149.51608631, 198.4265824 ,\n",
       "       157.38719864, 141.84103945, 161.10003933, 183.36980607,\n",
       "       136.77379208, 259.5531872 , 214.01875739, 164.42866635,\n",
       "       150.43502022, 191.32162768, 157.2465196 , 231.15003526,\n",
       "       161.71933387, 158.50738684, 167.5474945 , 164.0433635 ,\n",
       "       171.08713995,  84.9797664 , 143.89085632, 167.8438924 ,\n",
       "       156.07081268,  82.78751678, 159.92311431, 189.40788441,\n",
       "       107.99021283, 170.85113279, 165.4001352 , 189.63263086,\n",
       "       118.82853652, 120.43004065, 143.7860997 , 145.49829918,\n",
       "       156.7233284 , 182.25404508, 152.85817204, 154.00403226,\n",
       "       157.04031023, 134.89103309, 187.3640847 , 170.31470675,\n",
       "       103.41729297, 138.59411493, 163.87476857, 144.37397672,\n",
       "       152.18652431, 182.60688708, 128.76955393, 209.90398071,\n",
       "        96.51859394, 215.16379872, 133.35459347, 209.51421194,\n",
       "       114.50697518, 116.3970183 , 129.02516208, 191.55852874,\n",
       "       128.8926161 , 174.01105785, 151.78318136, 166.84552894,\n",
       "       156.28619753, 167.81132504, 243.64522306, 158.93325285,\n",
       "       148.98609875, 155.83186896, 157.48576333, 146.46805148,\n",
       "       149.66926363, 102.85589049,  76.05982485, 170.10264846,\n",
       "        84.59719768, 181.40418862, 175.81856842, 164.01279727,\n",
       "       112.59749898, 168.37976016, 195.39018593, 204.32916436,\n",
       "       155.37746757, 163.72988758,  68.53651493, 171.98828751,\n",
       "       186.92397892, 168.79815805, 152.83062287, 207.01527145,\n",
       "       135.03866489, 128.05635186, 170.05308525, 162.92384978,\n",
       "       150.46927457, 164.74912741, 210.25991987, 187.94397678,\n",
       "       161.14097366, 134.01882761, 167.65205987, 182.16376718,\n",
       "       147.69985   , 155.25127869, 212.45630185, 171.34078633,\n",
       "       148.98179476, 140.86850237, 154.65695551, 157.81480215,\n",
       "       207.16124133, 167.65901375, 186.42275269, 174.85571344,\n",
       "       213.40302421,  82.42532446, 144.33699245, 180.78291203,\n",
       "       192.69230242, 204.03434176, 129.23535574, 114.94594332,\n",
       "       182.17989092, 170.81348222,  79.34824224, 124.19489971,\n",
       "       179.62032491, 175.76342781, 152.39443184, 147.5979595 ,\n",
       "       199.37745351, 129.53705602,  76.82908031, 161.3653131 ,\n",
       "       185.56568574, 177.80022174, 161.89345547, 147.92869996,\n",
       "       144.36808525, 187.23491573, 128.99204802, 161.99276819,\n",
       "       164.55547319, 238.40240725, 185.02099894, 159.94657751,\n",
       "       230.70648823, 160.56716589, 127.64037747, 168.10137295,\n",
       "       191.04824894, 173.06398134, 179.48105287, 133.22601675,\n",
       "       168.61602286, 133.68378256, 212.50555875, 158.30916675,\n",
       "       178.58297859, 164.04306355, 115.11646929, 123.13575025,\n",
       "       189.24318601, 176.70370727, 149.75678127,  93.94686493,\n",
       "       171.31246777, 166.90629017, 186.56262573, 175.29542035,\n",
       "       153.77381664, 203.75605597, 169.16731802, 153.90451795,\n",
       "       162.63630669, 122.77940897, 146.18345206, 190.91144768,\n",
       "       178.52652227, 181.11219055, 180.1958883 , 234.04607602,\n",
       "       192.08430291, 156.26829501, 188.15563992, 141.19672116,\n",
       "       206.8180652 , 162.03208981, 165.78211049, 158.68792214,\n",
       "       183.38184892, 164.71369272, 187.37711648, 184.49323326,\n",
       "       130.4814559 , 170.43531428, 175.86547096, 166.56819655,\n",
       "       168.78150167, 162.64540132, 122.45043808, 160.94878042,\n",
       "       153.66583279, 148.85475194, 128.91424812, 139.22113719,\n",
       "       174.56167391, 230.06910743, 144.67746008, 193.06351816,\n",
       "       132.61332643, 248.22782925, 165.94790747, 158.46437038,\n",
       "       107.49569391, 219.657418  , 192.79213441, 198.83846098,\n",
       "       146.60324973, 146.03966464, 144.29769507, 122.44784399,\n",
       "       170.30795114, 112.06251268, 143.59676445, 147.81669667,\n",
       "        98.69272968, 179.68221601, 139.85888464, 107.10812468,\n",
       "       132.74481386, 168.09786054, 155.67200609, 135.15991964,\n",
       "       132.97082556, 194.77226226, 192.81785667, 197.70375071,\n",
       "       186.16332063, 187.19018415, 143.55810427, 121.15862234,\n",
       "       141.88579189, 188.96115335, 143.603647  , 169.80774774,\n",
       "       168.54197528, 129.58610301, 198.66792529, 137.75266647,\n",
       "       139.05954143, 174.77051646, 174.18952782, 181.35299936,\n",
       "       126.25471618, 175.02289658, 145.51189559, 105.65952324,\n",
       "       149.40557706, 144.14779635, 224.22930781,  63.81086525,\n",
       "       104.82247581, 219.88785516, 132.94529665, 184.41429879,\n",
       "       190.93595371, 165.70573734, 131.13435248, 222.78353475,\n",
       "       149.5010373 , 202.56223846, 103.73210955, 162.6530519 ,\n",
       "       169.08456938, 170.8097061 , 162.18714676, 177.40847956,\n",
       "       148.16834164, 143.92918229, 120.07303155, 255.50606112,\n",
       "       128.06577142, 106.20780206, 157.97747617, 176.04671629,\n",
       "       176.90709475, 169.69950085, 139.55589929, 209.53854602,\n",
       "       138.4779066 , 105.05147191, 134.26827799, 157.24394982,\n",
       "       126.61302651, 168.08312467, 164.01439344, 245.17113585,\n",
       "       145.60631757, 186.17990794, 171.23318155, 116.71687282,\n",
       "       133.60475783, 127.62720788, 161.78651678, 139.80534887,\n",
       "       193.65377804, 205.17763148, 207.14223331, 151.7480251 ,\n",
       "       177.4698448 , 200.69446783, 133.11736145, 116.83768744,\n",
       "       166.19543352, 156.18817061, 157.88202454, 159.34259284,\n",
       "       196.59515896, 116.88905322, 183.90623944, 169.27456226,\n",
       "       196.99534418, 104.62272693, 157.83004978, 173.89132684,\n",
       "       185.52971134, 124.90066368, 186.58665137, 178.59383368,\n",
       "       223.57111982, 147.41304488, 291.09863694, 209.29635313,\n",
       "       153.21179109, 141.73044859, 168.71021179, 127.97002607,\n",
       "       153.13148055, 171.29292271,  92.22438858, 179.63129257,\n",
       "       101.68820085, 125.56443097, 165.25020678, 133.24056574,\n",
       "       144.16550826, 168.80530932, 202.9151954 , 188.48963766,\n",
       "       189.2948302 , 221.46326098, 146.63216195, 175.92646526,\n",
       "       156.47412081, 108.62857269, 231.51828715, 133.72728853,\n",
       "       135.40994832, 153.27355789, 152.34156769, 157.54317692,\n",
       "       192.37733483, 129.77307808, 172.65571204, 161.2573348 ,\n",
       "       215.60597602, 159.99707497, 126.99305382, 162.52826341,\n",
       "       160.32318135, 175.12547718, 137.88508664, 153.0850675 ,\n",
       "       174.28421399, 159.97987832, 121.76182326, 169.55339017,\n",
       "       190.77134978, 139.99179456, 139.33964072, 208.20971674,\n",
       "       132.85041763, 128.596359  , 158.20061762, 121.00949812,\n",
       "       132.0167605 , 170.65032702, 188.45248438, 203.20907994,\n",
       "       155.20890272, 104.76355895, 203.03022288, 162.79450371,\n",
       "       159.21201531, 183.85308298, 145.36543761, 121.48798123,\n",
       "       131.81446676, 167.32275468, 143.83521429, 155.73891797,\n",
       "       220.94181601, 161.88917929, 144.79644471, 239.61383717,\n",
       "       142.96306553, 172.43146786, 194.07523286, 239.12575605,\n",
       "       173.14004528, 183.45312122, 181.33459278, 153.04926398,\n",
       "       173.85154348, 178.8096809 , 234.8193037 , 152.12841578,\n",
       "       190.12768824, 163.46673058, 138.6528543 , 158.83658174,\n",
       "       149.4973727 , 152.59408478, 191.20393217, 153.76797852,\n",
       "       141.57881945, 168.25145472, 159.72925327, 205.05563872,\n",
       "       141.03244937, 129.44835886, 181.46962891, 153.13149467,\n",
       "       146.54700892, 134.73379323, 165.18656978, 144.14684096,\n",
       "       181.01845371, 133.35077957, 113.89798123, 141.37661048,\n",
       "       189.49722621, 131.12980833, 195.82232491, 124.75014257,\n",
       "       155.09614375, 109.31095798, 194.38203119, 119.60909632,\n",
       "       173.23916623, 220.75349077, 114.98871042, 183.97283524,\n",
       "       194.78627853, 135.02968114, 164.05296462, 178.92921376,\n",
       "       109.05806775, 173.30438111, 155.55996169,  86.57417011,\n",
       "       161.98833817, 180.79559271, 177.81012786, 177.4991261 ,\n",
       "       176.81930266, 251.59690162, 167.48441652, 115.78018266,\n",
       "       172.12110846, 153.6364324 , 173.32997505, 192.30162248,\n",
       "       123.92073632, 173.7473739 , 151.3841482 , 112.56586247,\n",
       "       141.3089099 , 224.43261857, 225.30280426, 129.32271266,\n",
       "       216.50426987, 164.27435731, 161.090422  , 149.67109478,\n",
       "       220.82497417, 141.53329866, 232.07708732, 203.08438619,\n",
       "       144.34737493, 219.55190218, 213.61819259, 210.87676421,\n",
       "       109.22113352, 153.89807527, 184.86243425, 154.42713648,\n",
       "       188.41727559, 151.52143347,  88.60540429, 166.76961974,\n",
       "       146.7117832 , 139.20007646, 170.51128221, 130.8329793 ,\n",
       "       140.89001233, 168.663044  , 161.41360437, 152.05850014,\n",
       "       152.06116515, 145.22230786, 155.05284151, 132.87653026,\n",
       "       142.05474119, 148.23663378, 178.96702416, 237.54538179,\n",
       "       151.21722768, 190.77788539, 161.5672238 , 128.04067854,\n",
       "       173.34789701, 201.48753068, 229.50354683, 130.53190698,\n",
       "       116.89526041, 175.9012481 , 160.3190805 , 154.41448995,\n",
       "       171.26117017, 191.83569587, 183.40620545, 162.77109697,\n",
       "       167.21505958, 135.79008711,  99.4598008 , 153.41027065,\n",
       "       146.23532192, 164.07960013, 180.16906619, 153.89439893,\n",
       "       130.285496  , 184.66247078, 160.49137367, 140.59815774,\n",
       "       163.78026423, 160.61302213, 178.57790434, 214.43475146,\n",
       "       161.21941972, 179.77808019, 132.08731452, 135.00360106,\n",
       "       114.60650435,  90.31834548, 157.67349662, 206.47633258,\n",
       "       147.01859088, 143.85523812,  86.3621309 , 161.58140197,\n",
       "       115.47573081, 187.55957759, 181.46154636, 158.82367165,\n",
       "       156.17450224, 100.98786805, 158.80241096, 174.66908503,\n",
       "       110.35157783, 158.75298031, 127.73490423, 115.84246754,\n",
       "       181.26182232, 101.56518993, 170.14633323, 254.56221612,\n",
       "       156.15459279, 138.12375719, 156.58531615, 159.05872161,\n",
       "       152.94789774, 175.34645783, 167.63490172, 195.36187777,\n",
       "       240.29420348, 109.88780581, 138.88754688, 170.62752877,\n",
       "       233.20829481, 119.68255888, 108.16519297,  95.0526327 ,\n",
       "       150.99665541, 146.6933496 , 163.1642229 ,  70.80779181,\n",
       "       256.42351713, 136.43026082, 196.75488811, 145.99217473,\n",
       "       161.6646048 , 181.26217611, 149.63217361, 165.92214255,\n",
       "       147.91795654, 131.34308241, 148.90228718, 184.91275474,\n",
       "       216.65502199, 113.29531242, 115.97916509,  98.4787308 ,\n",
       "       131.36518243, 181.2817389 , 198.11992258, 230.51287485,\n",
       "        81.98958521, 127.98237099, 118.90308107, 150.33260361,\n",
       "       150.52820329, 231.99256213, 159.39744402, 196.01902823,\n",
       "       185.15563469, 163.21565395, 140.99441427, 114.42553313,\n",
       "       227.37715392, 167.08246093, 173.07889513, 133.6950244 ,\n",
       "       154.07766686, 163.31454669, 149.74834526, 175.06948425,\n",
       "       137.81553671, 186.39903956, 164.58763779, 130.58497754,\n",
       "       144.74070509, 141.54121047, 106.07689008, 128.41989777,\n",
       "       150.70491961, 151.48961536, 125.99750498, 200.79166219,\n",
       "       205.77334267, 157.89299903, 156.31325543, 115.8974245 ,\n",
       "       134.9037171 , 165.41618798, 228.64771022, 191.1560971 ,\n",
       "       150.15118492, 203.09775737, 162.41805601, 172.81935171,\n",
       "       162.27850814, 179.94624134, 140.2430672 , 146.61717282,\n",
       "       118.30196594, 159.33264941, 161.11454804, 154.82097643,\n",
       "       169.62108716, 181.73766478, 139.99783595, 183.75977651,\n",
       "       175.19533904, 234.95321561, 169.06078104, 193.28719909,\n",
       "       159.15805551, 176.57683005, 166.09215045, 190.72412186,\n",
       "       154.42342313, 111.07899469, 153.89798203,  79.34457268,\n",
       "       175.92311351, 174.07771019, 124.16996614, 218.41995348])"
      ]
     },
     "execution_count": 24,
     "metadata": {},
     "output_type": "execute_result"
    }
   ],
   "source": [
    "# prior_h is just a list of prior height estimate samples.\n",
    "np.shape(prior_h)\n",
    "prior_h"
   ]
  },
  {
   "cell_type": "markdown",
   "metadata": {},
   "source": [
    "### Am I sure that stats.norm.rvs can have lists as the loc and scale inputs, and that it works the way I think it does?\n",
    "* Let's find out!\n",
    "    * Yep, it works!"
   ]
  },
  {
   "cell_type": "code",
   "execution_count": 22,
   "metadata": {
    "scrolled": true
   },
   "outputs": [
    {
     "data": {
      "text/plain": [
       "array([ 1.,  1.,  1.,  1.,  1.,  1.,  1.,  1.,  1.,  1.,  1.,  1.,  1.,\n",
       "        1.,  1.,  1.,  1.,  1.,  1.,  1.,  1.,  1.,  1.,  1.,  1.,  1.,\n",
       "        1.,  1.,  1.,  1.,  1.,  1.,  1.,  1.,  1.,  1.,  1.,  1.,  1.,\n",
       "        1.,  1.,  1.,  1.,  1.,  1.,  1.,  1.,  1.,  1.,  1.,  1.,  1.,\n",
       "        1.,  1.,  1.,  1.,  1.,  1.,  1.,  1.,  1.,  1.,  1.,  1.,  1.,\n",
       "        1.,  1.,  1.,  1.,  1.,  1.,  1.,  1.,  1.,  1.,  1.,  1.,  1.,\n",
       "        1.,  1.,  1.,  1.,  1.,  1.,  1.,  1.,  1.,  1.,  1.,  1.,  1.,\n",
       "        1.,  1.,  1.,  1.,  1.,  1.,  1.,  1.,  1., 10., 10., 10., 10.,\n",
       "       10., 10., 10., 10., 10., 10., 10., 10., 10., 10., 10., 10., 10.,\n",
       "       10., 10., 10., 10., 10., 10., 10., 10., 10., 10., 10., 10., 10.,\n",
       "       10., 10., 10., 10., 10., 10., 10., 10., 10., 10., 10., 10., 10.,\n",
       "       10., 10., 10., 10., 10., 10., 10., 10., 10., 10., 10., 10., 10.,\n",
       "       10., 10., 10., 10., 10., 10., 10., 10., 10., 10., 10., 10., 10.,\n",
       "       10., 10., 10., 10., 10., 10., 10., 10., 10., 10., 10., 10., 10.,\n",
       "       10., 10., 10., 10., 10., 10., 10., 10., 10., 10., 10., 10., 10.,\n",
       "       10., 10., 10., 10., 10.])"
      ]
     },
     "execution_count": 22,
     "metadata": {},
     "output_type": "execute_result"
    },
    {
     "data": {
      "text/plain": [
       "(array([ 6., 47., 40.,  6.,  1.,  0.,  2., 29., 53., 16.]),\n",
       " array([-1.7057582 , -0.29539286,  1.11497247,  2.52533781,  3.93570314,\n",
       "         5.34606848,  6.75643381,  8.16679915,  9.57716448, 10.98752982,\n",
       "        12.39789515]),\n",
       " <a list of 10 Patch objects>)"
      ]
     },
     "execution_count": 22,
     "metadata": {},
     "output_type": "execute_result"
    },
    {
     "data": {
      "image/png": "[encoded data removed]",
      "text/plain": [
       "<Figure size 576x360 with 1 Axes>"
      ]
     },
     "metadata": {
      "needs_background": "light"
     },
     "output_type": "display_data"
    }
   ],
   "source": [
    "# Create a list containing two different values for the mean\n",
    "d1m = 1  # Mean of distribution 1\n",
    "d2m = 10 # Mean of distribution 2\n",
    "m = np.concatenate([np.ones(100)*d1m, np.ones(100)*d2m])\n",
    "m\n",
    "\n",
    "# List of standard deviations, all ones\n",
    "s = np.ones(200)\n",
    "\n",
    "# If stats.norm.rvs works the way I think it does (by going down the lists of the parameters\n",
    "#  and using each unique parameter pair to generate a sample) then we should see two distinct\n",
    "#  distributions, one centered at d1m and another centered at d2m.\n",
    "test_samples = stats.norm.rvs(loc=m, scale=s)\n",
    "plt.hist(test_samples)"
   ]
  },
  {
   "cell_type": "markdown",
   "metadata": {},
   "source": [
    "## 4.3.3 Use Grid Approximation to calculate the posterior \n",
    "* We calculate posterior likelihoods of particular values of the mean and standard deviation, given the data we observed and our prior expectations."
   ]
  },
  {
   "cell_type": "markdown",
   "metadata": {},
   "source": [
    "### Creat a grid of mean and standard deviation values that we will brute-force calculate likelihoods over. (We then flatten the grid to just two columns to simplify computation.)\n",
    "* param_values is an array with two columns. \n",
    "* param_values contains all the combinations of parameter values between the specified ranges, as created by mgrid (aka mesh grid), but then flattened to just two columns. \n",
    "* The first column represents values of the mean, and the second column represents values of the standard deviation."
   ]
  },
  {
   "cell_type": "code",
   "execution_count": 22,
   "metadata": {
    "scrolled": true
   },
   "outputs": [
    {
     "data": {
      "text/plain": [
       "array([[150.  ,   7.  ],\n",
       "       [150.  ,   7.05],\n",
       "       [150.  ,   7.1 ],\n",
       "       [150.  ,   7.15],\n",
       "       [150.  ,   7.2 ],\n",
       "       [150.  ,   7.25],\n",
       "       [150.  ,   7.3 ],\n",
       "       [150.  ,   7.35],\n",
       "       [150.  ,   7.4 ],\n",
       "       [150.  ,   7.45],\n",
       "       [150.  ,   7.5 ],\n",
       "       [150.  ,   7.55],\n",
       "       [150.  ,   7.6 ],\n",
       "       [150.  ,   7.65],\n",
       "       [150.  ,   7.7 ],\n",
       "       [150.  ,   7.75],\n",
       "       [150.  ,   7.8 ],\n",
       "       [150.  ,   7.85],\n",
       "       [150.  ,   7.9 ],\n",
       "       [150.  ,   7.95],\n",
       "       [150.  ,   8.  ],\n",
       "       [150.  ,   8.05],\n",
       "       [150.  ,   8.1 ],\n",
       "       [150.  ,   8.15],\n",
       "       [150.  ,   8.2 ],\n",
       "       [150.  ,   8.25],\n",
       "       [150.  ,   8.3 ],\n",
       "       [150.  ,   8.35],\n",
       "       [150.  ,   8.4 ],\n",
       "       [150.  ,   8.45],\n",
       "       [150.  ,   8.5 ],\n",
       "       [150.  ,   8.55],\n",
       "       [150.  ,   8.6 ],\n",
       "       [150.  ,   8.65],\n",
       "       [150.  ,   8.7 ],\n",
       "       [150.  ,   8.75],\n",
       "       [150.  ,   8.8 ],\n",
       "       [150.  ,   8.85],\n",
       "       [150.  ,   8.9 ],\n",
       "       [150.  ,   8.95],\n",
       "       [150.05,   7.  ],\n",
       "       [150.05,   7.05],\n",
       "       [150.05,   7.1 ],\n",
       "       [150.05,   7.15],\n",
       "       [150.05,   7.2 ],\n",
       "       [150.05,   7.25],\n",
       "       [150.05,   7.3 ],\n",
       "       [150.05,   7.35],\n",
       "       [150.05,   7.4 ],\n",
       "       [150.05,   7.45],\n",
       "       [150.05,   7.5 ],\n",
       "       [150.05,   7.55],\n",
       "       [150.05,   7.6 ],\n",
       "       [150.05,   7.65],\n",
       "       [150.05,   7.7 ],\n",
       "       [150.05,   7.75],\n",
       "       [150.05,   7.8 ],\n",
       "       [150.05,   7.85],\n",
       "       [150.05,   7.9 ],\n",
       "       [150.05,   7.95],\n",
       "       [150.05,   8.  ],\n",
       "       [150.05,   8.05],\n",
       "       [150.05,   8.1 ],\n",
       "       [150.05,   8.15],\n",
       "       [150.05,   8.2 ],\n",
       "       [150.05,   8.25],\n",
       "       [150.05,   8.3 ],\n",
       "       [150.05,   8.35],\n",
       "       [150.05,   8.4 ],\n",
       "       [150.05,   8.45],\n",
       "       [150.05,   8.5 ],\n",
       "       [150.05,   8.55],\n",
       "       [150.05,   8.6 ],\n",
       "       [150.05,   8.65],\n",
       "       [150.05,   8.7 ],\n",
       "       [150.05,   8.75],\n",
       "       [150.05,   8.8 ],\n",
       "       [150.05,   8.85],\n",
       "       [150.05,   8.9 ],\n",
       "       [150.05,   8.95],\n",
       "       [150.1 ,   7.  ],\n",
       "       [150.1 ,   7.05],\n",
       "       [150.1 ,   7.1 ],\n",
       "       [150.1 ,   7.15],\n",
       "       [150.1 ,   7.2 ],\n",
       "       [150.1 ,   7.25],\n",
       "       [150.1 ,   7.3 ],\n",
       "       [150.1 ,   7.35],\n",
       "       [150.1 ,   7.4 ],\n",
       "       [150.1 ,   7.45],\n",
       "       [150.1 ,   7.5 ],\n",
       "       [150.1 ,   7.55],\n",
       "       [150.1 ,   7.6 ],\n",
       "       [150.1 ,   7.65],\n",
       "       [150.1 ,   7.7 ],\n",
       "       [150.1 ,   7.75],\n",
       "       [150.1 ,   7.8 ],\n",
       "       [150.1 ,   7.85],\n",
       "       [150.1 ,   7.9 ],\n",
       "       [150.1 ,   7.95]])"
      ]
     },
     "execution_count": 22,
     "metadata": {},
     "output_type": "execute_result"
    }
   ],
   "source": [
    "param_values = np.mgrid[150:160:0.05, 7:9:0.05].reshape(2, -1).T\n",
    "param_values[0:100]"
   ]
  },
  {
   "cell_type": "markdown",
   "metadata": {},
   "source": [
    "### For one specific combination of parameter values, calculate the total log-likelihood of observing all of the height data values.\n",
    "* norm.logpdf returns the log of the probability of observing a particular data value (in our case a height value), assuming that the height came from a normal distribution with the given mean and standard deviation.\n",
    "* sum(LL) is the log-likelihood for a single pair of mean and standard deviation values.\n",
    "    * We take all of the data values of height, and for each one we calculate the log-likelihood (using logpdf) of seeing that height value, if we were had pulled that height value from a normal distribution with a specific mean and standard deviation.\n",
    "    * Then we add up all of those log-likelihoods, which is the same as multiplying all of the  likelihoods and then taking the log of the product. \n",
    "        * We want to multiply the likelihoods because we want to know the final probability of seeing the first data value of height AND the second data value of height AND the third data value of height... etc. \n",
    "        * So we are essentially trying to calculate p(h1)\\*p(h2)\\*p(h3)...\\*p(hn), but we use logs because when we multiply probabilities we can get very small numbers, and the computer has trouble keeping track of those, and can have rounding errors.\n",
    "        * Of course, multiplying the probabilities like this to get the total probability assumes that all of the height measurements are independent, that is, p(A AND B) = p(A)\\*p(B) if A and B are independent. What do you do if the measurements are not independent?\n",
    "* The likelihood is the probability of seeing all of these specific height data values, given a specific pair of mean and variance values."
   ]
  },
  {
   "cell_type": "code",
   "execution_count": 36,
   "metadata": {
    "scrolled": true
   },
   "outputs": [
    {
     "data": {
      "text/plain": [
       "array([-2.90330487, -3.93921629, -4.69859082, -3.3433109 , -3.08344671,\n",
       "       -4.79610377, -2.87800835, -6.46925099, -2.91403672, -5.16571395])"
      ]
     },
     "execution_count": 36,
     "metadata": {},
     "output_type": "execute_result"
    },
    {
     "data": {
      "text/plain": [
       "-1297.428225106116"
      ]
     },
     "execution_count": 36,
     "metadata": {},
     "output_type": "execute_result"
    }
   ],
   "source": [
    "LL = stats.norm.logpdf(df2.height, loc=param_values[1, 0], scale=param_values[1, 1])\n",
    "LL[0:10]\n",
    "\n",
    "total_LL = sum(LL)\n",
    "total_LL"
   ]
  },
  {
   "cell_type": "markdown",
   "metadata": {},
   "source": [
    "### Building off of the last cell, now we calculate a list of log-likelihoods--one for each combination of mean and variance.\n",
    "* As shown above, the sum calculates total log likelihood for one specific pair of mean and standard deviation values, but over all of the height data values.\n",
    "* The for loop then calculates one total log likelihood value for each mean and standard deviation value pair."
   ]
  },
  {
   "cell_type": "code",
   "execution_count": 32,
   "metadata": {},
   "outputs": [
    {
     "data": {
      "text/plain": [
       "[-1299.030295605718,\n",
       " -1297.428225106116,\n",
       " -1295.8949193620315,\n",
       " -1294.428216599498,\n",
       " -1293.0260332478672,\n",
       " -1291.6863606446127,\n",
       " -1290.407261899476,\n",
       " -1289.1868689093246,\n",
       " -1288.0233795154786,\n",
       " -1286.9150547958013]"
      ]
     },
     "execution_count": 32,
     "metadata": {},
     "output_type": "execute_result"
    }
   ],
   "source": [
    "log_likelihoods = [\n",
    "    sum(stats.norm.logpdf(df2.height, loc=param_values[i, 0], scale=param_values[i, 1]))\n",
    "    for i in range(len(param_values))\n",
    "]\n",
    "log_likelihoods[0:10]"
   ]
  },
  {
   "cell_type": "markdown",
   "metadata": {},
   "source": [
    "### Calculate the log-likelihoods of each prior value for mean and standard deviation.\n",
    "* Our prior expectations are that the mean of the heights comes from a normal distribution with its own mean of 178 cm and standard deviation of 20 cm. (Note that these mean of the mean and standard deviation of the mean are different from the mean and standard deviations of the height in param_values!) We expect the standard deviation of the heights to come from a uniform distribution from 0 to 50 cm.\n",
    "* Remember that param_values has only two columns, but that the two columns together provide every combination of mean and standard deviation. This means that the values in both columns repeat, so the computation below is somewhat inefficient because it computes the logpdf for the same values multiple times. However, it doesn't slow us down too much, and it's easy to write and understand."
   ]
  },
  {
   "cell_type": "code",
   "execution_count": 43,
   "metadata": {},
   "outputs": [
    {
     "data": {
      "text/plain": [
       "array([-4.89467081, -4.89467081, -4.89467081, ..., -4.32192393,\n",
       "       -4.32192393, -4.32192393])"
      ]
     },
     "execution_count": 43,
     "metadata": {},
     "output_type": "execute_result"
    },
    {
     "data": {
      "text/plain": [
       "array([-3.91202301, -3.91202301, -3.91202301, ..., -3.91202301,\n",
       "       -3.91202301, -3.91202301])"
      ]
     },
     "execution_count": 43,
     "metadata": {},
     "output_type": "execute_result"
    }
   ],
   "source": [
    "# Prior log-likelihood of the mean of the heights\n",
    "log_prior_mean = stats.norm.logpdf(param_values[:, 0], loc=178, scale=20)\n",
    "log_prior_mean\n",
    "\n",
    "# Prior log-likelihood of the standard deviation of the heights\n",
    "log_prior_std = stats.uniform.logpdf(param_values[:, 1], loc=0, scale=50)\n",
    "log_prior_std"
   ]
  },
  {
   "cell_type": "markdown",
   "metadata": {},
   "source": [
    "### Add the calculated log-likelihoods of the heights to the log-likelihoods of the mean and standard deviation.\n",
    "* Remember that each of these log-likelihoods is in a list-like format, where each value in the list represents a likelihood for one pair of mean and standard deviation values."
   ]
  },
  {
   "cell_type": "code",
   "execution_count": 44,
   "metadata": {},
   "outputs": [
    {
     "data": {
      "text/plain": [
       "array([-1307.83698942, -1306.23491892, -1304.70161317, ...,\n",
       "       -1297.91333993, -1297.67006264, -1297.45288479])"
      ]
     },
     "execution_count": 44,
     "metadata": {},
     "output_type": "execute_result"
    }
   ],
   "source": [
    "post_prod = (\n",
    "    log_likelihoods\n",
    "    \n",
    "    # Logs of the prior likelihoods for the mean and standard deviation:\n",
    "    + stats.norm.logpdf(param_values[:, 0], loc=178, scale=20)\n",
    "    + stats.uniform.logpdf(param_values[:, 1], loc=0, scale=50)\n",
    ")\n",
    "post_prod"
   ]
  },
  {
   "cell_type": "markdown",
   "metadata": {},
   "source": [
    "### Transform the log-likelihoods into relative likelihoods\n",
    "* First, subtract the maximum value from all the values \n",
    "    * This is mathematically the same as dividing all the likelihoods by the maximum likelihood.\n",
    "    * We do this because the actual probabilities involved are too small for the computer to represent digitally."
   ]
  },
  {
   "cell_type": "code",
   "execution_count": 54,
   "metadata": {},
   "outputs": [
    {
     "data": {
      "text/plain": [
       "array([1.95774597e-35, 9.71687726e-35, 4.50228456e-34, ...,\n",
       "       3.99523704e-31, 5.09561418e-31, 6.33163222e-31])"
      ]
     },
     "execution_count": 54,
     "metadata": {},
     "output_type": "execute_result"
    },
    {
     "data": {
      "text/plain": [
       "array([0., 0., 0., ..., 0., 0., 0.])"
      ]
     },
     "execution_count": 54,
     "metadata": {},
     "output_type": "execute_result"
    }
   ],
   "source": [
    "relative_post_prob = np.exp(post_prod - max(post_prod))\n",
    "relative_post_prob\n",
    "\n",
    "# Note how simply taking the exponent of post_prod produces a vector of 0's, \n",
    "# because of the very small probabilities involved.\n",
    "np.exp(post_prod)"
   ]
  },
  {
   "cell_type": "markdown",
   "metadata": {},
   "source": [
    "### Repeat the last few sections of code, all together, and then plot the result.\n",
    "#### Questions\n",
    "* I'm confused about how we add together the likelihoods--It seems weird somehow that we are starting with the likelihoods of the prior parameters, and then just adding on likelihoods of the height data? It just seems weird that we can add those things together? Like why didn't we calculate some prior likelihoods for height values, and then add that to likelihoods for data height values?\n",
    "* Where is the output of posterior samples? Or are the relative post probabilities the outputs in this section? Can we not sample from the posterior somehow? Or can we only do that with quap?"
   ]
  },
  {
   "cell_type": "code",
   "execution_count": 55,
   "metadata": {},
   "outputs": [
    {
     "data": {
      "image/png": "[encoded data removed]",
      "text/plain": [
       "<Figure size 576x360 with 1 Axes>"
      ]
     },
     "metadata": {
      "needs_background": "light"
     },
     "output_type": "display_data"
    }
   ],
   "source": [
    "# Create a grid of parameter values for the mean and standard deviation,\n",
    "# then flatten to just two columns.\n",
    "param_values = np.mgrid[150:160:0.05, 7:9:0.05].reshape(2, -1).T\n",
    "\n",
    "# Compute a list of log-likelihood for each value pair of mean and standard deviation.\n",
    "log_likelihoods = [\n",
    "    sum(stats.norm.logpdf(df2.height, loc=param_values[i, 0], scale=param_values[i, 1]))\n",
    "    for i in range(len(param_values))\n",
    "]\n",
    "\n",
    "# Add the log-likelihoods of the height data to the prior likelihoods of the \n",
    "# mean and standard deviation. \n",
    "# (Recall that adding logs is the same as multiplying the values inside the logs.)\n",
    "post_prod = (\n",
    "    log_likelihoods\n",
    "    \n",
    "    # Logs of the prior likelihoods for the mean and variance:\n",
    "    + stats.norm.logpdf(param_values[:, 0], loc=178, scale=20)\n",
    "    + stats.uniform.logpdf(param_values[:, 1], loc=0, scale=50)\n",
    ")\n",
    "\n",
    "# Transform the posterior log-likelihoods to relative likelihoods.\n",
    "relative_post_prob = np.exp(post_prod - max(post_prod))\n",
    "\n",
    "# Plot each likelihood value against its corresponding mean and standard deviation pair.\n",
    "xi = np.linspace(param_values[:, 0].min(), param_values[:, 0].max(), 100)\n",
    "yi = np.linspace(param_values[:, 1].min(), param_values[:, 1].max(), 100)\n",
    "zi = griddata(\n",
    "    (param_values[:, 0], param_values[:, 1]), relative_post_prob, (xi[None, :], yi[:, None])\n",
    ")\n",
    "plt.contour(xi, yi, zi);\n",
    "plt.xlabel('mean (cm)');\n",
    "plt.ylabel('standard deviation (cm)');\n",
    "plt.title('Likelihood');"
   ]
  },
  {
   "cell_type": "code",
   "execution_count": null,
   "metadata": {},
   "outputs": [],
   "source": []
  },
  {
   "cell_type": "markdown",
   "metadata": {},
   "source": [
    "# 4.3.4 Sampling from the posterior"
   ]
  },
  {
   "cell_type": "markdown",
   "metadata": {},
   "source": [
    "# 4.3.5 Finding the posterior distribution with quap"
   ]
  },
  {
   "cell_type": "markdown",
   "metadata": {},
   "source": [
    "# TODO\n",
    "* Reread from section 4.3.2 onwards, review and try to answer questions I wrote before."
   ]
  },
  {
   "cell_type": "markdown",
   "metadata": {},
   "source": [
    "# Questions\n",
    "Why these particular ranges for the generated priors?\n",
    "How are the priors going to be used?\n",
    "So when we plotted the priors for the distributions of the mean and standard deviation of the heights, we just plotted ideal pdfs--I guess we were just plotting the 'true' distributions that we're guessing those values come from, and then when we actually sampled the priors, we sampled from those ideal distributions.\n",
    "Review the equation in *Overthinking: Model definition to Bayes’ theorem again*"
   ]
  },
  {
   "cell_type": "code",
   "execution_count": null,
   "metadata": {},
   "outputs": [],
   "source": []
  }
 ],
 "metadata": {
  "kernelspec": {
   "display_name": "Python 3",
   "language": "python",
   "name": "python3"
  },
  "language_info": {
   "codemirror_mode": {
    "name": "ipython",
    "version": 3
   },
   "file_extension": ".py",
   "mimetype": "text/x-python",
   "name": "python",
   "nbconvert_exporter": "python",
   "pygments_lexer": "ipython3",
   "version": "3.8.3"
  }
 },
 "nbformat": 4,
 "nbformat_minor": 4
}
